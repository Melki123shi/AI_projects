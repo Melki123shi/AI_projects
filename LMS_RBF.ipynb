{
 "cells": [
  {
   "cell_type": "code",
   "execution_count": 2,
   "id": "a0b3f65a-f1e6-4e22-abe6-71e375fd9e92",
   "metadata": {},
   "outputs": [],
   "source": [
    "import numpy as np\n",
    "from sklearn.metrics import mean_squared_error\n",
    "from sklearn.linear_model import SGDRegressor\n",
    "from sklearn.datasets import make_regression"
   ]
  },
  {
   "cell_type": "markdown",
   "id": "f5108bf3-8c1f-4ff4-a924-ca00e64f8154",
   "metadata": {},
   "source": [
    "# **Implementation of LMS for RBF**"
   ]
  },
  {
   "cell_type": "code",
   "execution_count": 3,
   "id": "3e395ed6-5312-41f4-9e82-6184b3d502df",
   "metadata": {},
   "outputs": [],
   "source": [
    "# Step 1: Data Preparation\n",
    "X, y = make_regression(n_samples=100, n_features=1, noise=0.3, random_state=5)\n",
    "# print(X, y)"
   ]
  },
  {
   "cell_type": "code",
   "execution_count": 4,
   "id": "5e63e132-2f67-4b6f-b0c7-783c792dd180",
   "metadata": {},
   "outputs": [],
   "source": [
    "# Step 2: RBFN Architecture\n",
    "num_rbf_units = 10\n",
    "centers = np.linspace(-3, 3, num_rbf_units + 1)\n",
    "spread = 1.0"
   ]
  },
  {
   "cell_type": "code",
   "execution_count": 5,
   "id": "0576e1c3-520e-475d-9925-9122a27294f5",
   "metadata": {},
   "outputs": [],
   "source": [
    "# Step 3: Activation Calculation\n",
    "def calculate_activations(X, centers, spread):\n",
    "    activations = np.exp(-(X - centers) ** 2 / (2 * spread**2))\n",
    "    return activations\n",
    "\n",
    "# Formulate the activation matrix Φ\n",
    "phi = calculate_activations(X, centers, spread)"
   ]
  },
  {
   "cell_type": "code",
   "execution_count": 50,
   "id": "2b8624b2-581c-4d06-a2b0-d910af974337",
   "metadata": {},
   "outputs": [],
   "source": [
    "learning_rate = 0.01\n",
    "num_iterations = 200\n",
    "weights = np.random.randn(num_rbf_units + 1)  # +1 for the bias term\n",
    "\n",
    "for _ in range(num_iterations):\n",
    "    # Iterate through the training dataset\n",
    "    for i in range(len(X)):\n",
    "        # Calculate the predicted output\n",
    "        y_pred = np.dot(phi[i], weights)\n",
    "\n",
    "        # Calculate the error\n",
    "        error = y[i] - y_pred\n",
    "\n",
    "        # Update the weights\n",
    "        weights += learning_rate * phi[i] * error"
   ]
  },
  {
   "cell_type": "markdown",
   "id": "f9ee6a88-6698-496d-bdef-20461869ae9b",
   "metadata": {},
   "source": [
    "# **Compare Our result with sklearn**"
   ]
  },
  {
   "cell_type": "code",
   "execution_count": 51,
   "id": "58c2bb6e-b6fc-4ff7-b0b9-2a4e3cc1a692",
   "metadata": {},
   "outputs": [
    {
     "name": "stdout",
     "output_type": "stream",
     "text": [
      "MSE (Custom Implementation): 16.30019163976644\n",
      "MSE (Scikit-learn): 16.076320300140946\n"
     ]
    }
   ],
   "source": [
    "# Step 5: Prediction\n",
    "y_pred_custom = np.dot(phi, weights)\n",
    "\n",
    "# Use scikit-learn SGDRegressor for comparison\n",
    "regressor = SGDRegressor(learning_rate='constant', eta0=0.01, max_iter=num_iterations)\n",
    "regressor.fit(phi, y)\n",
    "y_pred_sklearn = regressor.predict(phi)\n",
    "\n",
    "# Compare the results\n",
    "mse_custom = mean_squared_error(y, y_pred_custom)\n",
    "mse_sklearn = mean_squared_error(y, y_pred_sklearn)\n",
    "\n",
    "print(\"MSE (Custom Implementation):\", mse_custom)\n",
    "print(\"MSE (Scikit-learn):\", mse_sklearn)"
   ]
  },
  {
   "cell_type": "code",
   "execution_count": null,
   "id": "7edad37d-4454-497f-a335-5511f2a4e1d3",
   "metadata": {},
   "outputs": [],
   "source": []
  }
 ],
 "metadata": {
  "kernelspec": {
   "display_name": "Python 3 (ipykernel)",
   "language": "python",
   "name": "python3"
  },
  "language_info": {
   "codemirror_mode": {
    "name": "ipython",
    "version": 3
   },
   "file_extension": ".py",
   "mimetype": "text/x-python",
   "name": "python",
   "nbconvert_exporter": "python",
   "pygments_lexer": "ipython3",
   "version": "3.10.12"
  }
 },
 "nbformat": 4,
 "nbformat_minor": 5
}
